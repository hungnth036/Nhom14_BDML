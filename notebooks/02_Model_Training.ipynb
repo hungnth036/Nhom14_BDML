{
 "cells": [
  {
   "cell_type": "code",
   "execution_count": null,
   "id": "d7b27365",
   "metadata": {},
   "outputs": [],
   "source": [
    "print(\"\\n\" + \"=\"*60)\n",
    "print(\"✅ HỦA LUYỆN VÀ LƯU MÔ HÌNH HOÀN THÀNH\")\n",
    "print(\"=\"*60)\n",
    "print(\"\\n📝 Các bước tiếp theo:\")\n",
    "print(\"1. ✓ Tiền xử lý dữ liệu\")\n",
    "print(\"2. ✓ Huấn luyện các mô hình\")\n",
    "print(\"3. → Đánh giá mô hình (Evaluation)\")\n",
    "print(\"4. → Phân tích Feature Importance\")\n",
    "print(\"5. → Dự đoán nguy cơ tiểu đường (Demo)\")\n",
    "print(\"=\"*60)"
   ]
  },
  {
   "cell_type": "code",
   "execution_count": null,
   "id": "cb96d8cb",
   "metadata": {},
   "outputs": [],
   "source": [
    "import joblib\n",
    "import os\n",
    "\n",
    "# Tạo thư mục models nếu chưa tồn tại\n",
    "os.makedirs('../models', exist_ok=True)\n",
    "\n",
    "# Lưu mô hình\n",
    "for model_name, model in models.items():\n",
    "    model_path = f'../models/{model_name.replace(\" \", \"_\").lower()}_model.pkl'\n",
    "    joblib.dump(model, model_path)\n",
    "    print(f\"✓ Lưu mô hình: {model_path}\")\n",
    "\n",
    "# Lưu scaler\n",
    "scaler_path = '../models/scaler.pkl'\n",
    "joblib.dump(scaler, scaler_path)\n",
    "print(f\"✓ Lưu scaler: {scaler_path}\")\n",
    "\n",
    "# Lưu feature names\n",
    "features_path = '../models/feature_names.pkl'\n",
    "joblib.dump(feature_names, features_path)\n",
    "print(f\"✓ Lưu feature names: {features_path}\")"
   ]
  },
  {
   "cell_type": "markdown",
   "id": "0cb94e94",
   "metadata": {},
   "source": [
    "## 4️⃣ Lưu Mô Hình và Scaler\n",
    "\n",
    "Các mô hình sẽ được sử dụng trong phần đánh giá tiếp theo."
   ]
  },
  {
   "cell_type": "code",
   "execution_count": null,
   "id": "d38fb459",
   "metadata": {},
   "outputs": [],
   "source": [
    "# Vẽ biểu đồ so sánh CV scores\n",
    "fig, ax = plt.subplots(figsize=(10, 6))\n",
    "\n",
    "model_names = list(models.keys())\n",
    "cv_means = [lr_cv_scores.mean(), rf_cv_scores.mean(), xgb_cv_scores.mean(), knn_cv_scores.mean()]\n",
    "cv_stds = [lr_cv_scores.std(), rf_cv_scores.std(), xgb_cv_scores.std(), knn_cv_scores.std()]\n",
    "\n",
    "colors = ['#3498db', '#2ecc71', '#e74c3c', '#f39c12']\n",
    "bars = ax.bar(model_names, cv_means, yerr=cv_stds, capsize=5, color=colors, alpha=0.8, edgecolor='black', linewidth=1.5)\n",
    "\n",
    "ax.set_ylabel('Cross-validation F1-Score', fontweight='bold', fontsize=11)\n",
    "ax.set_title('📊 So Sánh Cross-Validation F1-Scores Các Mô Hình', fontweight='bold', fontsize=13)\n",
    "ax.set_ylim(0, 1)\n",
    "ax.grid(True, alpha=0.3, axis='y')\n",
    "\n",
    "# Thêm giá trị trên cột\n",
    "for bar, mean in zip(bars, cv_means):\n",
    "    height = bar.get_height()\n",
    "    ax.text(bar.get_x() + bar.get_width()/2., height,\n",
    "            f'{mean:.3f}', ha='center', va='bottom', fontweight='bold', fontsize=10)\n",
    "\n",
    "plt.xticks(rotation=15, ha='right')\n",
    "plt.tight_layout()\n",
    "plt.show()\n",
    "\n",
    "print(\"✓ Biểu đồ so sánh đã được vẽ\")"
   ]
  },
  {
   "cell_type": "code",
   "execution_count": null,
   "id": "ca2b63c8",
   "metadata": {},
   "outputs": [],
   "source": [
    "# Tóm tắt CV scores\n",
    "cv_summary = {\n",
    "    'Model': ['Logistic Regression', 'Random Forest', 'XGBoost', 'KNN'],\n",
    "    'CV F1-Score': [\n",
    "        f\"{lr_cv_scores.mean():.4f}\",\n",
    "        f\"{rf_cv_scores.mean():.4f}\",\n",
    "        f\"{xgb_cv_scores.mean():.4f}\",\n",
    "        f\"{knn_cv_scores.mean():.4f}\"\n",
    "    ],\n",
    "    'Std': [\n",
    "        f\"±{lr_cv_scores.std():.4f}\",\n",
    "        f\"±{rf_cv_scores.std():.4f}\",\n",
    "        f\"±{xgb_cv_scores.std():.4f}\",\n",
    "        f\"±{knn_cv_scores.std():.4f}\"\n",
    "    ]\n",
    "}\n",
    "\n",
    "cv_df = pd.DataFrame(cv_summary)\n",
    "print(\"\\n📊 Tóm tắt Cross-Validation F1-Scores:\")\n",
    "print(cv_df.to_string(index=False))"
   ]
  },
  {
   "cell_type": "markdown",
   "id": "1ee80a8b",
   "metadata": {},
   "source": [
    "## 3️⃣ So Sánh Cross-Validation Scores"
   ]
  },
  {
   "cell_type": "code",
   "execution_count": null,
   "id": "f9d5c64a",
   "metadata": {},
   "outputs": [],
   "source": [
    "print(\"\\n\" + \"=\"*60)\n",
    "print(\"✅ HỦA LUYỆN TẤT CẢ MÔ HÌNH HOÀN THÀNH\")\n",
    "print(\"=\"*60)\n",
    "print(f\"\\nCác mô hình đã huấn luyện: {list(models.keys())}\")\n",
    "print(f\"Số lượng mô hình: {len(models)}\")"
   ]
  },
  {
   "cell_type": "code",
   "execution_count": null,
   "id": "0b612e96",
   "metadata": {},
   "outputs": [],
   "source": [
    "# 4. KNN\n",
    "print(\"\\n🔹 Huấn luyện KNN...\")\n",
    "print(\"=\"*60)\n",
    "knn_model = KNeighborsClassifier(n_neighbors=5, n_jobs=-1)\n",
    "knn_model.fit(X_train_scaled, y_train)\n",
    "\n",
    "# Cross-validation\n",
    "knn_cv_scores = cross_val_score(knn_model, X_train_scaled, y_train, cv=5, scoring='f1')\n",
    "print(f\"  ✓ Training hoàn tất\")\n",
    "print(f\"  ✓ Cross-validation F1-Score: {knn_cv_scores.mean():.4f} (+/- {knn_cv_scores.std():.4f})\")\n",
    "\n",
    "models['KNN'] = knn_model"
   ]
  },
  {
   "cell_type": "code",
   "execution_count": null,
   "id": "60c5abf7",
   "metadata": {},
   "outputs": [],
   "source": [
    "# 3. XGBoost\n",
    "print(\"\\n🔹 Huấn luyện XGBoost...\")\n",
    "print(\"=\"*60)\n",
    "xgb_model = xgb.XGBClassifier(n_estimators=100, random_state=42, eval_metric='logloss', verbosity=0)\n",
    "xgb_model.fit(X_train_scaled, y_train)\n",
    "\n",
    "# Cross-validation\n",
    "xgb_cv_scores = cross_val_score(xgb_model, X_train_scaled, y_train, cv=5, scoring='f1')\n",
    "print(f\"  ✓ Training hoàn tất\")\n",
    "print(f\"  ✓ Cross-validation F1-Score: {xgb_cv_scores.mean():.4f} (+/- {xgb_cv_scores.std():.4f})\")\n",
    "\n",
    "models['XGBoost'] = xgb_model"
   ]
  },
  {
   "cell_type": "code",
   "execution_count": null,
   "id": "88475fa0",
   "metadata": {},
   "outputs": [],
   "source": [
    "# 2. Random Forest\n",
    "print(\"\\n🔹 Huấn luyện Random Forest...\")\n",
    "print(\"=\"*60)\n",
    "rf_model = RandomForestClassifier(n_estimators=100, random_state=42, n_jobs=-1)\n",
    "rf_model.fit(X_train_scaled, y_train)\n",
    "\n",
    "# Cross-validation\n",
    "rf_cv_scores = cross_val_score(rf_model, X_train_scaled, y_train, cv=5, scoring='f1')\n",
    "print(f\"  ✓ Training hoàn tất\")\n",
    "print(f\"  ✓ Cross-validation F1-Score: {rf_cv_scores.mean():.4f} (+/- {rf_cv_scores.std():.4f})\")\n",
    "\n",
    "models['Random Forest'] = rf_model"
   ]
  },
  {
   "cell_type": "code",
   "execution_count": null,
   "id": "56fe85d0",
   "metadata": {},
   "outputs": [],
   "source": [
    "models = {}\n",
    "\n",
    "# 1. Logistic Regression\n",
    "print(\"\\n🔹 Huấn luyện Logistic Regression...\")\n",
    "print(\"=\"*60)\n",
    "lr_model = LogisticRegression(random_state=42, max_iter=1000)\n",
    "lr_model.fit(X_train_scaled, y_train)\n",
    "\n",
    "# Cross-validation\n",
    "lr_cv_scores = cross_val_score(lr_model, X_train_scaled, y_train, cv=5, scoring='f1')\n",
    "print(f\"  ✓ Training hoàn tất\")\n",
    "print(f\"  ✓ Cross-validation F1-Score: {lr_cv_scores.mean():.4f} (+/- {lr_cv_scores.std():.4f})\")\n",
    "\n",
    "models['Logistic Regression'] = lr_model"
   ]
  },
  {
   "cell_type": "markdown",
   "id": "548d91e1",
   "metadata": {},
   "source": [
    "## 2️⃣ Huấn Luyện Các Mô Hình"
   ]
  },
  {
   "cell_type": "code",
   "execution_count": null,
   "id": "a9a31a79",
   "metadata": {},
   "outputs": [],
   "source": [
    "# Chuẩn hóa dữ liệu\n",
    "scaler = StandardScaler()\n",
    "X_train_scaled = scaler.fit_transform(X_train)\n",
    "X_test_scaled = scaler.transform(X_test)\n",
    "\n",
    "print(f\"\\n✓ Chuẩn hóa dữ liệu (StandardScaler):\")\n",
    "print(f\"  - Mean (train): {X_train_scaled.mean(axis=0).round(2)}\")\n",
    "print(f\"  - Std (train): {X_train_scaled.std(axis=0).round(2)}\")\n",
    "\n",
    "# Chuyển thành DataFrame cho tiện sử dụng\n",
    "X_train_scaled = pd.DataFrame(X_train_scaled, columns=feature_names)\n",
    "X_test_scaled = pd.DataFrame(X_test_scaled, columns=feature_names)"
   ]
  },
  {
   "cell_type": "code",
   "execution_count": null,
   "id": "c1d004ab",
   "metadata": {},
   "outputs": [],
   "source": [
    "# Tách X, y\n",
    "X = df_clean.drop('Outcome', axis=1)\n",
    "y = df_clean['Outcome']\n",
    "\n",
    "feature_names = X.columns.tolist()\n",
    "\n",
    "print(f\"\\n✓ Tách Features và Target:\")\n",
    "print(f\"  - Features: {feature_names}\")\n",
    "print(f\"  - Target: Outcome\")\n",
    "\n",
    "# Split train/test (80/20)\n",
    "X_train, X_test, y_train, y_test = train_test_split(\n",
    "    X, y, test_size=0.2, random_state=42, stratify=y\n",
    ")\n",
    "\n",
    "print(f\"\\n✓ Chia train/test (80/20):\")\n",
    "print(f\"  - Train: {X_train.shape[0]} mẫu\")\n",
    "print(f\"  - Test: {X_test.shape[0]} mẫu\")\n",
    "print(f\"  - Train - Outcome=0: {(y_train==0).sum()}, Outcome=1: {(y_train==1).sum()}\")\n",
    "print(f\"  - Test  - Outcome=0: {(y_test==0).sum()}, Outcome=1: {(y_test==1).sum()}\")"
   ]
  },
  {
   "cell_type": "code",
   "execution_count": null,
   "id": "001552f1",
   "metadata": {},
   "outputs": [],
   "source": [
    "# Xử lý giá trị 0 không hợp lệ\n",
    "print(\"\\n📊 Xử lý giá trị 0 không hợp lệ:\")\n",
    "print(\"=\"*60)\n",
    "\n",
    "df_clean = df.copy()\n",
    "\n",
    "# Danh sách cột không nên có giá trị 0\n",
    "cols_with_zero = ['Glucose', 'BloodPressure', 'SkinThickness', 'Insulin', 'BMI']\n",
    "\n",
    "for col in cols_with_zero:\n",
    "    zero_count = (df_clean[col] == 0).sum()\n",
    "    if zero_count > 0:\n",
    "        # Tính median của những giá trị khác 0\n",
    "        median_val = df_clean[df_clean[col] != 0][col].median()\n",
    "        df_clean.loc[df_clean[col] == 0, col] = median_val\n",
    "        print(f\"  {col}: Thay {zero_count} giá trị 0 bằng median ({median_val:.2f})\")\n",
    "\n",
    "print(\"\\n✓ Xử lý giá trị 0 hoàn tất!\")"
   ]
  },
  {
   "cell_type": "code",
   "execution_count": null,
   "id": "a88802c8",
   "metadata": {},
   "outputs": [],
   "source": [
    "# Tải dữ liệu\n",
    "data_path = '../data/diabetes.csv'\n",
    "df = pd.read_csv(data_path)\n",
    "\n",
    "print(f\"✓ Tải dữ liệu thành công: {df.shape[0]} mẫu, {df.shape[1]} cột\")\n",
    "print(f\"\\nTên các cột: {df.columns.tolist()}\")"
   ]
  },
  {
   "cell_type": "markdown",
   "id": "eee22bba",
   "metadata": {},
   "source": [
    "## 1️⃣ Tải và Tiền Xử Lý Dữ Liệu"
   ]
  },
  {
   "cell_type": "code",
   "execution_count": null,
   "id": "f34e581d",
   "metadata": {},
   "outputs": [],
   "source": [
    "import sys\n",
    "sys.path.append('../')\n",
    "\n",
    "import pandas as pd\n",
    "import numpy as np\n",
    "import matplotlib.pyplot as plt\n",
    "import seaborn as sns\n",
    "from sklearn.model_selection import train_test_split, cross_val_score\n",
    "from sklearn.preprocessing import StandardScaler\n",
    "from sklearn.linear_model import LogisticRegression\n",
    "from sklearn.ensemble import RandomForestClassifier\n",
    "from sklearn.neighbors import KNeighborsClassifier\n",
    "import xgboost as xgb\n",
    "import warnings\n",
    "warnings.filterwarnings('ignore')\n",
    "\n",
    "print(\"✓ Các thư viện đã được import thành công!\")"
   ]
  },
  {
   "cell_type": "markdown",
   "id": "356ca09f",
   "metadata": {},
   "source": [
    "# 🤖 Dự đoán Bệnh Tiểu Đường - Huấn Luyện Mô Hình\n",
    "\n",
    "## Phần 2: Tiền xử lý dữ liệu & Huấn luyện các mô hình ML\n",
    "- Logistic Regression\n",
    "- Random Forest\n",
    "- XGBoost\n",
    "- KNN"
   ]
  }
 ],
 "metadata": {
  "language_info": {
   "name": "python"
  }
 },
 "nbformat": 4,
 "nbformat_minor": 5
}
