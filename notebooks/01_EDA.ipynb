{
 "cells": [
  {
   "cell_type": "code",
   "execution_count": null,
   "id": "d149af30",
   "metadata": {},
   "outputs": [],
   "source": [
    "print(\"\\n\" + \"=\"*80)\n",
    "print(\"✅ PHÂN TÍCH KHÁM PHÁ DỮ LIỆU (EDA) HOÀN THÀNH\")\n",
    "print(\"=\"*80)\n",
    "print(\"\\n📝 Các bước tiếp theo:\")\n",
    "print(\"1. ✓ Tiền xử lý dữ liệu (Preprocessing)\")\n",
    "print(\"2. ✓ Xây dựng mô hình học máy (Model Training)\")\n",
    "print(\"3. ✓ Đánh giá mô hình (Model Evaluation)\")\n",
    "print(\"4. ✓ Dự đoán nguy cơ tiểu đường (Prediction Demo)\")\n",
    "print(\"=\"*80)"
   ]
  },
  {
   "cell_type": "markdown",
   "id": "561c1a0f",
   "metadata": {},
   "source": [
    "## 7️⃣ Tóm Tắt Kết Quả Phân Tích (EDA Summary)\n",
    "\n",
    "### Kết Luận Chính:\n",
    "1. **Cấu trúc dữ liệu**: 768 quan sát, 9 cột (8 đặc trưng + 1 target)\n",
    "2. **Tương quan mạnh nhất với Outcome**:\n",
    "   - Glucose (nồng độ glucose)\n",
    "   - BMI (chỉ số khối cơ thể)\n",
    "   - Age (tuổi)\n",
    "   - Insulin (nồng độ insulin)\n",
    "\n",
    "3. **Giá trị 0 không hợp lệ**: Cần xử lý các cột như Glucose, BloodPressure, Insulin\n",
    "4. **Mất cân bằng dữ liệu**: ~65% không mắc, ~35% mắc tiểu đường\n",
    "5. **Phân phối**: Các đặc trưng có phân phối không chuẩn tắc, nên chuẩn hóa là cần thiết"
   ]
  },
  {
   "cell_type": "code",
   "execution_count": null,
   "id": "85ca5f08",
   "metadata": {},
   "outputs": [],
   "source": [
    "# Vẽ Violin plot để so sánh phân bố\n",
    "fig, axes = plt.subplots(3, 3, figsize=(15, 12))\n",
    "fig.suptitle('🎻 Violin Plot - So Sánh Phân Bố Theo Outcome', fontsize=16, fontweight='bold', y=1.00)\n",
    "\n",
    "for idx, feature in enumerate(df.columns[:-1]):\n",
    "    ax = axes[idx // 3, idx % 3]\n",
    "    \n",
    "    # Tạo dataframe cho violin plot\n",
    "    plot_data = df[[feature, 'Outcome']].copy()\n",
    "    plot_data['Outcome'] = plot_data['Outcome'].map({0: 'Không mắc', 1: 'Mắc'})\n",
    "    \n",
    "    sns.violinplot(data=plot_data, x='Outcome', y=feature, ax=ax, palette=['#2ecc71', '#e74c3c'])\n",
    "    ax.set_title(feature, fontweight='bold')\n",
    "    ax.grid(True, alpha=0.3, axis='y')\n",
    "\n",
    "plt.tight_layout()\n",
    "plt.show()\n",
    "\n",
    "print(\"✓ Violin plot đã được vẽ\")"
   ]
  },
  {
   "cell_type": "code",
   "execution_count": null,
   "id": "6b676215",
   "metadata": {},
   "outputs": [],
   "source": [
    "# So sánh đặc trưng giữa hai nhóm\n",
    "print(\"📊 So sánh các đặc trưng giữa nhóm không mắc (0) và mắc (1) tiểu đường:\")\n",
    "print(\"=\"*80)\n",
    "\n",
    "features = df.columns[:-1]  # Loại trừ Outcome\n",
    "for feature in features:\n",
    "    group0 = df[df['Outcome'] == 0][feature]\n",
    "    group1 = df[df['Outcome'] == 1][feature]\n",
    "    \n",
    "    print(f\"\\n{feature}:\")\n",
    "    print(f\"  Không mắc (0): Mean={group0.mean():.2f}, Std={group0.std():.2f}\")\n",
    "    print(f\"  Mắc (1):      Mean={group1.mean():.2f}, Std={group1.std():.2f}\")"
   ]
  },
  {
   "cell_type": "markdown",
   "id": "cf777974",
   "metadata": {},
   "source": [
    "## 6️⃣ So Sánh Các Đặc Trưng Theo Outcome"
   ]
  },
  {
   "cell_type": "code",
   "execution_count": null,
   "id": "6cd0ec90",
   "metadata": {},
   "outputs": [],
   "source": [
    "# Phân tích Outcome\n",
    "print(\"🎯 Phân tích biến Outcome:\")\n",
    "print(\"=\"*60)\n",
    "outcome_counts = df['Outcome'].value_counts()\n",
    "outcome_percent = df['Outcome'].value_counts(normalize=True) * 100\n",
    "\n",
    "print(f\"Người không mắc tiểu đường (0): {outcome_counts[0]} ({outcome_percent[0]:.1f}%)\")\n",
    "print(f\"Người mắc tiểu đường (1):      {outcome_counts[1]} ({outcome_percent[1]:.1f}%)\")\n",
    "print(f\"Tỷ lệ: {outcome_counts[0]} : {outcome_counts[1]}\")\n",
    "\n",
    "# Vẽ biểu đồ phân bố\n",
    "fig, axes = plt.subplots(1, 2, figsize=(12, 4))\n",
    "\n",
    "# Bar plot\n",
    "axes[0].bar(['Không mắc', 'Mắc'], outcome_counts.values, color=['#2ecc71', '#e74c3c'], alpha=0.8)\n",
    "axes[0].set_ylabel('Số lượng')\n",
    "axes[0].set_title('📊 Số lượng bệnh nhân theo Outcome', fontweight='bold')\n",
    "axes[0].grid(True, alpha=0.3, axis='y')\n",
    "for i, v in enumerate(outcome_counts.values):\n",
    "    axes[0].text(i, v+5, str(v), ha='center', fontweight='bold')\n",
    "\n",
    "# Pie chart\n",
    "colors = ['#2ecc71', '#e74c3c']\n",
    "explode = (0.05, 0.05)\n",
    "axes[1].pie(outcome_counts.values, labels=['Không mắc (0)', 'Mắc (1)'], \n",
    "            autopct='%1.1f%%', colors=colors, explode=explode, shadow=True, startangle=90)\n",
    "axes[1].set_title('📊 Tỷ lệ % Outcome', fontweight='bold')\n",
    "\n",
    "plt.tight_layout()\n",
    "plt.show()\n",
    "\n",
    "print(\"\\n✓ Biểu đồ phân bố Outcome đã được vẽ\")\n",
    "print(\"\\n⚠️ Lưu ý: Dữ liệu có sự mất cân bằng (imbalanced) - sẽ cần xử lý khi huấn luyện mô hình\")"
   ]
  },
  {
   "cell_type": "markdown",
   "id": "a663385c",
   "metadata": {},
   "source": [
    "## 5️⃣ Phân Tích Biến Target (Outcome)"
   ]
  },
  {
   "cell_type": "code",
   "execution_count": null,
   "id": "6eb2a6b0",
   "metadata": {},
   "outputs": [],
   "source": [
    "# Vẽ Heatmap tương quan\n",
    "plt.figure(figsize=(10, 8))\n",
    "sns.heatmap(correlation_matrix, annot=True, cmap='coolwarm', center=0, \n",
    "            fmt='.2f', square=True, linewidths=1)\n",
    "plt.title('🔥 Heatmap Tương Quan Giữa Các Đặc Trưng', fontsize=14, fontweight='bold', pad=20)\n",
    "plt.tight_layout()\n",
    "plt.show()\n",
    "\n",
    "print(\"✓ Heatmap tương quan đã được vẽ\")"
   ]
  },
  {
   "cell_type": "code",
   "execution_count": null,
   "id": "756385d7",
   "metadata": {},
   "outputs": [],
   "source": [
    "# Tính ma trận tương quan\n",
    "correlation_matrix = df.corr()\n",
    "\n",
    "print(\"📊 Ma trận tương quan:\")\n",
    "print(\"=\"*60)\n",
    "print(correlation_matrix)\n",
    "\n",
    "# Tương quan với Outcome\n",
    "print(\"\\n\\n🎯 Tương quan của các đặc trưng với Outcome:\")\n",
    "print(\"=\"*60)\n",
    "correlation_with_outcome = correlation_matrix['Outcome'].sort_values(ascending=False)\n",
    "print(correlation_with_outcome)\n",
    "print(\"\\n→ Glucose, BMI, Age có tương quan cao nhất với Outcome\")"
   ]
  },
  {
   "cell_type": "markdown",
   "id": "141d2779",
   "metadata": {},
   "source": [
    "## 4️⃣ Phân Tích Tương Quan Giữa Các Đặc Trưng"
   ]
  },
  {
   "cell_type": "code",
   "execution_count": null,
   "id": "bcb27434",
   "metadata": {},
   "outputs": [],
   "source": [
    "# Vẽ Box plot để phát hiện outliers\n",
    "fig, axes = plt.subplots(3, 3, figsize=(15, 12))\n",
    "fig.suptitle('📊 Box Plot - Phát hiện Outliers', fontsize=16, fontweight='bold', y=1.00)\n",
    "\n",
    "for idx, col in enumerate(df.columns):\n",
    "    ax = axes[idx // 3, idx % 3]\n",
    "    df.boxplot(column=col, ax=ax)\n",
    "    ax.set_title(col, fontweight='bold')\n",
    "    ax.grid(True, alpha=0.3)\n",
    "\n",
    "plt.tight_layout()\n",
    "plt.show()\n",
    "\n",
    "print(\"✓ Box plot đã được vẽ\")"
   ]
  },
  {
   "cell_type": "code",
   "execution_count": null,
   "id": "39de590a",
   "metadata": {},
   "outputs": [],
   "source": [
    "# Vẽ phân phối của các đặc trưng\n",
    "fig, axes = plt.subplots(3, 3, figsize=(15, 12))\n",
    "fig.suptitle('📊 Phân phối các đặc trưng', fontsize=16, fontweight='bold', y=1.00)\n",
    "\n",
    "columns = df.columns\n",
    "for idx, col in enumerate(columns):\n",
    "    ax = axes[idx // 3, idx % 3]\n",
    "    df[col].hist(bins=30, ax=ax, edgecolor='black', alpha=0.7)\n",
    "    ax.set_title(col, fontweight='bold')\n",
    "    ax.set_ylabel('Tần số')\n",
    "    ax.grid(True, alpha=0.3)\n",
    "\n",
    "plt.tight_layout()\n",
    "plt.show()\n",
    "\n",
    "print(\"✓ Biểu đồ phân phối đã được vẽ\")"
   ]
  },
  {
   "cell_type": "markdown",
   "id": "b75e0b4a",
   "metadata": {},
   "source": [
    "## 3️⃣ Phân Tích Phân Phối Các Đặc Trưng"
   ]
  },
  {
   "cell_type": "code",
   "execution_count": null,
   "id": "80fafc1d",
   "metadata": {},
   "outputs": [],
   "source": [
    "# Thống kê mô tả\n",
    "print(\"📈 Thống kê mô tả:\")\n",
    "print(\"=\"*60)\n",
    "print(df.describe())\n",
    "\n",
    "# Phân tích giá trị thiếu\n",
    "print(\"\\n\\n🔍 Kiểm tra giá trị thiếu:\")\n",
    "print(\"=\"*60)\n",
    "missing_values = df.isnull().sum()\n",
    "print(f\"Giá trị thiếu:\\n{missing_values}\")\n",
    "print(f\"Tổng cộng: {missing_values.sum()} giá trị thiếu\")\n",
    "\n",
    "# Kiểm tra giá trị 0 không hợp lệ\n",
    "print(\"\\n\\n⚠️ Kiểm tra giá trị 0 (có thể không hợp lệ):\")\n",
    "print(\"=\"*60)\n",
    "cols_with_zero = ['Glucose', 'BloodPressure', 'SkinThickness', 'Insulin', 'BMI']\n",
    "for col in cols_with_zero:\n",
    "    zero_count = (df[col] == 0).sum()\n",
    "    zero_percent = (zero_count / len(df)) * 100\n",
    "    print(f\"{col}: {zero_count} giá trị 0 ({zero_percent:.1f}%)\")"
   ]
  },
  {
   "cell_type": "markdown",
   "id": "06b68cd1",
   "metadata": {},
   "source": [
    "## 2️⃣ Phân Tích Thống Kê Mô Tả"
   ]
  },
  {
   "cell_type": "code",
   "execution_count": null,
   "id": "7debe0a4",
   "metadata": {},
   "outputs": [],
   "source": [
    "# Hiển thị thông tin cơ bản về dữ liệu\n",
    "print(\"📊 Thông tin tổng quát về dữ liệu:\")\n",
    "print(\"=\"*60)\n",
    "print(f\"\\nKích thước: {df.shape}\")\n",
    "print(f\"\\nCác cột: {df.columns.tolist()}\")\n",
    "print(f\"\\nKiểu dữ liệu:\\n{df.dtypes}\")\n",
    "print(f\"\\n5 dòng đầu tiên:\\n{df.head()}\")\n",
    "print(f\"\\n5 dòng cuối cùng:\\n{df.tail()}\")"
   ]
  },
  {
   "cell_type": "code",
   "execution_count": null,
   "id": "74456bee",
   "metadata": {},
   "outputs": [],
   "source": [
    "# Tải dữ liệu từ Kaggle (Pima Indians Diabetes Database)\n",
    "# URL: https://www.kaggle.com/uciml/pima-indians-diabetes-database\n",
    "\n",
    "# Tạo dữ liệu sample nếu chưa có file\n",
    "import os\n",
    "\n",
    "data_path = '../data/diabetes.csv'\n",
    "\n",
    "# Nếu chưa có file, tạo dữ liệu sample\n",
    "if not os.path.exists(data_path):\n",
    "    print(\"📥 Tải dữ liệu từ Kaggle...\")\n",
    "    # Bạn có thể tải từ đây: https://www.kaggle.com/uciml/pima-indians-diabetes-database\n",
    "    # Hoặc sử dụng code tạo dữ liệu sample\n",
    "    print(\"⚠️ Vui lòng tải diabetes.csv từ Kaggle và đặt vào thư mục 'data/'\")\n",
    "else:\n",
    "    print(\"✓ Tìm thấy file dữ liệu!\")\n",
    "\n",
    "# Load dữ liệu\n",
    "try:\n",
    "    df = pd.read_csv(data_path)\n",
    "    print(f\"✓ Tải dữ liệu thành công!\")\n",
    "    print(f\"  - Kích thước: {df.shape[0]} dòng, {df.shape[1]} cột\")\n",
    "except FileNotFoundError:\n",
    "    print(\"❌ Không tìm thấy file dữ liệu. Vui lòng tải từ Kaggle.\")"
   ]
  },
  {
   "cell_type": "markdown",
   "id": "1c470e0e",
   "metadata": {},
   "source": [
    "## 1️⃣ Tải và Khám Phá Dữ Liệu"
   ]
  },
  {
   "cell_type": "code",
   "execution_count": null,
   "id": "a9229669",
   "metadata": {},
   "outputs": [],
   "source": [
    "# Nhập thư viện cần thiết\n",
    "import pandas as pd\n",
    "import numpy as np\n",
    "import matplotlib.pyplot as plt\n",
    "import seaborn as sns\n",
    "from sklearn.preprocessing import StandardScaler\n",
    "from sklearn.model_selection import train_test_split\n",
    "import warnings\n",
    "warnings.filterwarnings('ignore')\n",
    "\n",
    "# Cài đặt style cho biểu đồ\n",
    "plt.style.use('seaborn-v0_8-darkgrid')\n",
    "sns.set_palette(\"husl\")\n",
    "\n",
    "print(\"✓ Các thư viện đã được import thành công!\")"
   ]
  },
  {
   "cell_type": "markdown",
   "id": "fae2d572",
   "metadata": {},
   "source": [
    "# 🏥 Dự đoán Bệnh Tiểu Đường - Phân Tích Khám Phá Dữ Liệu (EDA)\n",
    "\n",
    "## Đề tài: Dự đoán bệnh nhân có khả năng bị tiểu đường từ dữ liệu y tế\n",
    "\n",
    "### Mục tiêu\n",
    "- Phân tích bộ dữ liệu Pima Indians Diabetes Database\n",
    "- Xác định yếu tố sức khỏe ảnh hưởng đến khả năng mắc tiểu đường\n",
    "- Xây dựng mô hình ML dự đoán với độ chính xác cao\n",
    "- Phân loại mức rủi ro (Thấp, Trung bình, Cao)"
   ]
  }
 ],
 "metadata": {
  "language_info": {
   "name": "python"
  }
 },
 "nbformat": 4,
 "nbformat_minor": 5
}
